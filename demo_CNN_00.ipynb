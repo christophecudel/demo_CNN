{
  "cells": [
    {
      "cell_type": "markdown",
      "metadata": {
        "id": "view-in-github",
        "colab_type": "text"
      },
      "source": [
        "<a href=\"https://colab.research.google.com/github/christophecudel/demo_CNN/blob/main/demo_CNN_00.ipynb\" target=\"_parent\"><img src=\"https://colab.research.google.com/assets/colab-badge.svg\" alt=\"Open In Colab\"/></a>"
      ]
    },
    {
      "cell_type": "code",
      "source": [
        "# Etape 1 : organniser les données pour les rendre\n",
        "## compatibles avec l'apprentissage du CNN\n",
        "\n",
        "# Organniser les dossiers comme suit :\n",
        "# DataBase |- Train |---- Classe_0\n",
        "#          |        |---- Classe_1\n",
        "#          |-- Test |---- Classe_0\n",
        "#                   |---- Classe_1\n",
        "\n",
        "# A partir des images \"Classe_0\" et \"Classe_1\" :\n",
        "# Environ 80% des images vont dans Train\n",
        "# et 20% dans Test\n",
        "\n",
        "# Une fois le dossier correctement constitué :\n",
        "# - faire un .zip\n",
        "# - télécharger le .zip avec la ligne ci-dessous\n",
        "\n",
        "import glob\n",
        "from google.colab import files\n",
        "\n",
        "uploaded = files.upload()"
      ],
      "metadata": {
        "id": "SfMsphjPAank"
      },
      "execution_count": null,
      "outputs": []
    },
    {
      "cell_type": "code",
      "source": [
        "# le fichier est décompressé dans l'envirronnement local\n",
        "!unzip my_images_database.zip # >> my_images_base.zip est le nom de votre fichier qui a été téléchargé"
      ],
      "metadata": {
        "id": "lXbdEqBhkBsU"
      },
      "execution_count": null,
      "outputs": []
    },
    {
      "cell_type": "code",
      "execution_count": null,
      "metadata": {
        "id": "s1o8IWdoh8Bd"
      },
      "outputs": [],
      "source": [
        "# Etape 2 : préparer l'apprentissage\n",
        "# précisant bien les dossiers à prendre en compte :\n",
        "# chemins vers vos dossiers d'images d'entraînement et de test\n",
        "# depuis l'environnement google colab\n",
        "train_data_dir = \"DataBase_03/Train\" # par exemple - à ajuster\n",
        "test_data_dir = \"DataBase_03/Test\" # par exemple - à ajuster\n",
        "\n",
        "# Ici, on vérifie que l'accès aux images est OK :\n",
        "images_dir = \"DataBase_03/Train/Classe_0/*.bmp\"\n",
        "images_name = glob.glob(images_dir)\n",
        "print(images_name)\n",
        "print(\"first and last images name : \",images_name[0],\",\", images_name[-1])\n",
        "\n",
        "# Si l'instruction ne retourne pas les noms de fichier\n",
        "# de la 1ère et dernière image : revoir les étapes pér\n"
      ]
    },
    {
      "cell_type": "code",
      "source": [
        "# Etape 3 :On affiche les dimensions des images\n",
        "from PIL import Image\n",
        "\n",
        "# Ouvrir l'image PNG\n",
        "image = Image.open(images_name[0])\n",
        "\n",
        "# Obtenir les dimensions de l'image\n",
        "NbCols, NbRows = image.size\n",
        "\n",
        "if image.mode == 'RGB':\n",
        "    NbCanaux = 3\n",
        "elif image.mode == 'L':\n",
        "    NbCanaux = 1\n",
        "else:\n",
        "    NbCanaux = 'Inconnu'  # Pour d'autres modes, la gestion peut être ajoutée selon les besoins\n",
        "\n",
        "# Afficher les informations\n",
        "print(f'Nombre de colonnes (largeur): {NbCols}, Nombre de lignes (hauteur): {NbRows}, Nombre de canaux: {NbCanaux}')\n"
      ],
      "metadata": {
        "id": "rkOgA-baOfOY"
      },
      "execution_count": null,
      "outputs": []
    },
    {
      "cell_type": "code",
      "execution_count": null,
      "metadata": {
        "id": "4uJB6qrMZcus"
      },
      "outputs": [],
      "source": [
        "# Etape 4 : apprentissage\n",
        "# Préparation des paramètres pour la\n",
        "from tensorflow.keras.preprocessing.image import ImageDataGenerator\n",
        "from tensorflow import keras\n",
        "from tensorflow.keras import layers\n",
        "import matplotlib.pyplot as plt\n",
        "\n",
        "import numpy as np\n",
        "\n",
        "# Créez des générateurs de données distincts pour chaque classe d'entraînement\n",
        "image_size = (NbRows, NbCols)\n",
        "batch_size = 32\n",
        "\n",
        "train_datagen = ImageDataGenerator(\n",
        "    rescale=1.0 / 255,\n",
        "    rotation_range=20,\n",
        "    width_shift_range=0.2,\n",
        "    height_shift_range=0.2,\n",
        "    shear_range=0.2,\n",
        "    zoom_range=0.2,\n",
        "    horizontal_flip=True,\n",
        "    fill_mode='nearest'\n",
        ")\n",
        "\n",
        "train_generator = train_datagen.flow_from_directory(\n",
        "    train_data_dir,\n",
        "    target_size=image_size,\n",
        "    batch_size=batch_size,\n",
        "    class_mode='binary',  # Deux classes : classe_0 et classe_1\n",
        "    shuffle=True\n",
        ")\n",
        "\n",
        "# S'il y a plus de classes, il ne faut plus être en \"class_mode\".\n",
        "# Fusionnez les générateurs de données en un seul pour l'entraînement en utilisant numpy\n",
        "#train_generator = np.concatenate([train_generator_classe_0, train_generator_classe_1])\n",
        "\n",
        "# Créez un générateur de données pour charger et prétraiter les images de test\n",
        "test_datagen = ImageDataGenerator(rescale=1.0 / 255)\n",
        "\n",
        "test_generator = test_datagen.flow_from_directory(\n",
        "    test_data_dir,\n",
        "    target_size=image_size,\n",
        "    batch_size=batch_size,\n",
        "    class_mode='binary',  # Deux classes : classe_0 et classe_1\n",
        "    shuffle=False  # Vous pouvez désactiver le mélange pour garder l'ordre\n",
        ")\n",
        "\n",
        "# Créez un modèle CNN\n",
        "model = keras.Sequential([\n",
        "    layers.Conv2D(32, (3, 3), activation='relu', input_shape=(NbRows, NbCols, 3)),\n",
        "    layers.MaxPooling2D((2, 2)),\n",
        "    layers.Conv2D(64, (3, 3), activation='relu'),\n",
        "    layers.MaxPooling2D((2, 2)),\n",
        "    layers.Conv2D(128, (3, 3), activation='relu'),\n",
        "    layers.MaxPooling2D((2, 2)),\n",
        "    layers.Flatten(),\n",
        "    layers.Dense(128, activation='relu'),\n",
        "    layers.Dense(1, activation='sigmoid')  # Deux classes : classe_0 et classe_1 (décision binaire)\n",
        "])\n",
        "\n",
        "# Compiler le modèle\n",
        "model.compile(optimizer='adam', loss='binary_crossentropy', metrics=['accuracy'])\n",
        "\n",
        "# Entraîner le modèle\n",
        "num_epochs = 100\n",
        "\n",
        "history = model.fit(train_generator, epochs=num_epochs, validation_data=test_generator)\n",
        "\n",
        "# Évaluer le modèle sur l'ensemble de test\n",
        "test_loss, test_acc = model.evaluate(test_generator)\n",
        "print(f'Accuracy on test set: {test_acc}')\n",
        "\n",
        "# Sauvegarder le modèle si nécessaire\n",
        "# ces lignes demandent une durée d'excécution non négligeables\n",
        "# elles sont nécessaires si on excecute le \"model\" de CNN dans un autre code\n",
        "# il faut alors re-charger le \"model\" de CNN\n",
        "# chaine = f\"content/Classif_keras_{num_epochs:02d}_epochs\"\n",
        "# model.save(chaine)\n",
        "\n",
        "# Afficher les courbes de loss et d'accuracy\n",
        "plt.figure(figsize=(12, 4))\n",
        "plt.subplot(1, 2, 1)\n",
        "plt.plot(history.history['loss'], label='Training Loss')\n",
        "plt.plot(history.history['val_loss'], label='Validation Loss')\n",
        "plt.legend()\n",
        "plt.xlabel('Epochs')\n",
        "plt.ylabel('Loss')\n",
        "\n",
        "plt.subplot(1, 2, 2)\n",
        "plt.plot(history.history['accuracy'], label='Training Accuracy')\n",
        "plt.plot(history.history['val_accuracy'], label='Validation Accuracy')\n",
        "plt.legend()\n",
        "plt.xlabel('Epochs')\n",
        "plt.ylabel('Accuracy')\n",
        "\n",
        "plt.show()"
      ]
    },
    {
      "cell_type": "code",
      "execution_count": null,
      "metadata": {
        "id": "oX1Jjeq5-3Sp"
      },
      "outputs": [],
      "source": [
        "# Etape facultative\n",
        "# Uniquement si le \"model\" est excuté dans un autre notebook jupyter\n",
        "# ou bien dans un autre contexte\n",
        "# étape très longue\n",
        "\n",
        "import zipfile\n",
        "import os\n",
        "\n",
        "# Sauvegarder le modèle (CNN) si nécessaire\n",
        "dossier = f\"/models/Classif_keras_{num_epochs:02d}_epochs\"\n",
        "print(\"Dossier du modèle à télécharger :\" + dossier)\n",
        "model.save(dossier)\n",
        "\n",
        "# Créer un fichier ZIP\n",
        "mon_dossier_zip = dossier + \".zip\"\n",
        "# Créer un fichier ZIP\n",
        "with zipfile.ZipFile(mon_dossier_zip, 'w', zipfile.ZIP_DEFLATED) as zipf:\n",
        "    for root, dirs, fichiers in os.walk(dossier):\n",
        "        for fichier in fichiers:\n",
        "            chemin_complet = os.path.join(root, fichier)\n",
        "            nom_dans_zip = os.path.relpath(chemin_complet, os.path.dirname(dossier))\n",
        "            zipf.write(chemin_complet, nom_dans_zip)\n",
        "\n",
        "        # Ajouter également les dossiers vides\n",
        "        if not fichiers:\n",
        "            nom_dossier_vide = os.path.relpath(root, os.path.dirname(dossier)) + '/'\n",
        "            zipf.write(root, nom_dossier_vide)\n",
        "\n",
        "# Télécharger le fichier ZIP\n",
        "files.download(mon_dossier_zip)\n"
      ]
    },
    {
      "cell_type": "code",
      "source": [
        "# Etape : préparation pour visualiser le résultat de l'apprentissage\n",
        "# Les images ne doivent pas être celles utilisées pour l'apprentissage\n",
        "# donc prendre les images de test en préparant un fichier zip\n",
        "# le mieux est de mélanger des images de classe_0 et de classe_1 dans un même dossier\n",
        "uploaded = files.upload()\n"
      ],
      "metadata": {
        "id": "3-SRY1hMJLOW"
      },
      "execution_count": null,
      "outputs": []
    },
    {
      "cell_type": "code",
      "source": [
        "# le fichier est décompressé dans l'envirronnement local\n",
        "!unzip my_images_test.zip # >> my_images_test.zip est le nom de votre fichier qui a été téléchargé"
      ],
      "metadata": {
        "id": "0lWVJvd7kfi4"
      },
      "execution_count": null,
      "outputs": []
    },
    {
      "cell_type": "code",
      "execution_count": null,
      "metadata": {
        "id": "yHW_oknRNoys",
        "scrolled": true
      },
      "outputs": [],
      "source": [
        "#Etape 5 : le modèle est testé sur des images\n",
        "\n",
        "from tensorflow.keras.preprocessing import image\n",
        "import os\n",
        "\n",
        "# Spécifiez le chemin du dossier contenant les images à prédire\n",
        "images_directory = \"DataBase_03/Test/Classe_1\"\n",
        "\n",
        "#NbRows, NbCols = 128\n",
        "Count_classe_0, Count_classe_1 = 0,0\n",
        "\n",
        "# Créez une liste pour stocker les images et les prédictions\n",
        "images = []\n",
        "predictions = []\n",
        "\n",
        "# Parcourez les fichiers d'images dans le dossier\n",
        "for filename in os.listdir(images_directory):\n",
        "    if filename.endswith('.bmp'):\n",
        "        # Charger l'image pour la prédiction\n",
        "        image_path = os.path.join(images_directory, filename)\n",
        "        img = image.load_img(image_path, target_size=(NbRows, NbCols))\n",
        "        img_array = image.img_to_array(img)\n",
        "        img_array = np.expand_dims(img_array, axis=0)\n",
        "        img_array /= 255.0  # Assurez-vous de normaliser l'image comme pendant l'entraînement\n",
        "\n",
        "       # Faire la prédiction\n",
        "        pred = model.predict(img_array)\n",
        "        predictions.append(pred[0][0])\n",
        "\n",
        "        # Stocker l'imagen sous forme d'un tableau\n",
        "        images.append(img)\n",
        "\n",
        "        # Afficher les images dans une seule figure avec une barre de défilement\n",
        "        num_images = len(images)\n"
      ]
    },
    {
      "cell_type": "code",
      "source": [
        "# si ipywidget n'est pas installé :\n",
        "# outil utilisé pour la visualisation dans l'étape suivante\n",
        "!pip install ipywidgets"
      ],
      "metadata": {
        "id": "ojG7lzwKW3rn"
      },
      "execution_count": null,
      "outputs": []
    },
    {
      "cell_type": "code",
      "execution_count": null,
      "metadata": {
        "id": "jVNPVzFUKBoI",
        "colab": {
          "base_uri": "https://localhost:8080/",
          "height": 476,
          "referenced_widgets": [
            "8cfc68d8cdcc4ad8abc4c2aa52689cc8",
            "58194863d8e94f508660ec852f2f1a1b",
            "e39a8bc3207a4d02917abf48030ba883",
            "12cd5a21448844b0ac1a911c872510d5",
            "5a9a43ab226c4d648b59d83d46dc7861"
          ]
        },
        "outputId": "6c2e89f7-2791-4c81-dcf9-32c82fe098e5"
      },
      "outputs": [
        {
          "output_type": "display_data",
          "data": {
            "text/plain": [
              "IntSlider(value=0, description='Image Index:', max=15)"
            ],
            "application/vnd.jupyter.widget-view+json": {
              "version_major": 2,
              "version_minor": 0,
              "model_id": "8cfc68d8cdcc4ad8abc4c2aa52689cc8"
            }
          },
          "metadata": {}
        },
        {
          "output_type": "display_data",
          "data": {
            "text/plain": [
              "Output()"
            ],
            "application/vnd.jupyter.widget-view+json": {
              "version_major": 2,
              "version_minor": 0,
              "model_id": "12cd5a21448844b0ac1a911c872510d5"
            }
          },
          "metadata": {}
        }
      ],
      "source": [
        "# Etape 6 : visualisation des résultats sur les images de test\n",
        "import ipywidgets as widgets\n",
        "from IPython.display import display, clear_output\n",
        "import matplotlib.pyplot as plt\n",
        "\n",
        "# Supposons que vous avez une liste d'images et une liste de noms correspondants\n",
        "#images = [img1, img2, img3, ...]  # Remplacez ceci par vos images\n",
        "\n",
        "image_names = os.listdir(images_directory)\n",
        "\n",
        "# Créer un widget Output pour l'affichage des images\n",
        "output = widgets.Output()\n",
        "\n",
        "# Créer un slider\n",
        "slider = widgets.IntSlider(min=0, max=len(images) - 1, step=1, description='Image Index:')\n",
        "\n",
        "# Fonction pour mettre à jour l'image et le nom\n",
        "def update_image(change):\n",
        "    img_index = change['new']  # Utilisation de change['new'] au lieu de change.new\n",
        "    with output:\n",
        "        clear_output(wait=True)  # Effacer l'affichage précédent\n",
        "        plt.figure(figsize=(5,5))  # Ajustez la taille si nécessaire\n",
        "        plt.imshow(images[img_index])  # Afficher la nouvelle image\n",
        "        #plt.title(image_names[img_index])  # Afficher le nom de l'image\n",
        "        plt.axis('off')\n",
        "        if predictions[img_index]>0.5:\n",
        "          classe = 'Classe 1'\n",
        "        else:\n",
        "          classe = 'Classe 0'\n",
        "        plt.title(image_names[img_index] + ':'+classe,fontsize=12)\n",
        "        plt.show()\n",
        "\n",
        "# Observer les changements du slider\n",
        "slider.observe(update_image, names='value')\n",
        "\n",
        "# Afficher le slider et la zone d'affichage\n",
        "display(slider)\n",
        "display(output)\n",
        "\n",
        "# Affichage initial\n",
        "update_image({'new': slider.value})"
      ]
    }
  ],
  "metadata": {
    "accelerator": "GPU",
    "colab": {
      "gpuType": "T4",
      "provenance": [],
      "include_colab_link": true
    },
    "kernelspec": {
      "display_name": "Python 3",
      "name": "python3"
    },
    "language_info": {
      "codemirror_mode": {
        "name": "ipython",
        "version": 3
      },
      "file_extension": ".py",
      "mimetype": "text/x-python",
      "name": "python",
      "nbconvert_exporter": "python",
      "pygments_lexer": "ipython3",
      "version": "3.9.18"
    },
    "widgets": {
      "application/vnd.jupyter.widget-state+json": {
        "8cfc68d8cdcc4ad8abc4c2aa52689cc8": {
          "model_module": "@jupyter-widgets/controls",
          "model_name": "IntSliderModel",
          "model_module_version": "1.5.0",
          "state": {
            "_dom_classes": [],
            "_model_module": "@jupyter-widgets/controls",
            "_model_module_version": "1.5.0",
            "_model_name": "IntSliderModel",
            "_view_count": null,
            "_view_module": "@jupyter-widgets/controls",
            "_view_module_version": "1.5.0",
            "_view_name": "IntSliderView",
            "continuous_update": true,
            "description": "Image Index:",
            "description_tooltip": null,
            "disabled": false,
            "layout": "IPY_MODEL_58194863d8e94f508660ec852f2f1a1b",
            "max": 15,
            "min": 0,
            "orientation": "horizontal",
            "readout": true,
            "readout_format": "d",
            "step": 1,
            "style": "IPY_MODEL_e39a8bc3207a4d02917abf48030ba883",
            "value": 5
          }
        },
        "58194863d8e94f508660ec852f2f1a1b": {
          "model_module": "@jupyter-widgets/base",
          "model_name": "LayoutModel",
          "model_module_version": "1.2.0",
          "state": {
            "_model_module": "@jupyter-widgets/base",
            "_model_module_version": "1.2.0",
            "_model_name": "LayoutModel",
            "_view_count": null,
            "_view_module": "@jupyter-widgets/base",
            "_view_module_version": "1.2.0",
            "_view_name": "LayoutView",
            "align_content": null,
            "align_items": null,
            "align_self": null,
            "border": null,
            "bottom": null,
            "display": null,
            "flex": null,
            "flex_flow": null,
            "grid_area": null,
            "grid_auto_columns": null,
            "grid_auto_flow": null,
            "grid_auto_rows": null,
            "grid_column": null,
            "grid_gap": null,
            "grid_row": null,
            "grid_template_areas": null,
            "grid_template_columns": null,
            "grid_template_rows": null,
            "height": null,
            "justify_content": null,
            "justify_items": null,
            "left": null,
            "margin": null,
            "max_height": null,
            "max_width": null,
            "min_height": null,
            "min_width": null,
            "object_fit": null,
            "object_position": null,
            "order": null,
            "overflow": null,
            "overflow_x": null,
            "overflow_y": null,
            "padding": null,
            "right": null,
            "top": null,
            "visibility": null,
            "width": null
          }
        },
        "e39a8bc3207a4d02917abf48030ba883": {
          "model_module": "@jupyter-widgets/controls",
          "model_name": "SliderStyleModel",
          "model_module_version": "1.5.0",
          "state": {
            "_model_module": "@jupyter-widgets/controls",
            "_model_module_version": "1.5.0",
            "_model_name": "SliderStyleModel",
            "_view_count": null,
            "_view_module": "@jupyter-widgets/base",
            "_view_module_version": "1.2.0",
            "_view_name": "StyleView",
            "description_width": "",
            "handle_color": null
          }
        },
        "12cd5a21448844b0ac1a911c872510d5": {
          "model_module": "@jupyter-widgets/output",
          "model_name": "OutputModel",
          "model_module_version": "1.0.0",
          "state": {
            "_dom_classes": [],
            "_model_module": "@jupyter-widgets/output",
            "_model_module_version": "1.0.0",
            "_model_name": "OutputModel",
            "_view_count": null,
            "_view_module": "@jupyter-widgets/output",
            "_view_module_version": "1.0.0",
            "_view_name": "OutputView",
            "layout": "IPY_MODEL_5a9a43ab226c4d648b59d83d46dc7861",
            "msg_id": "",
            "outputs": [
              {
                "output_type": "display_data",
                "data": {
                  "text/plain": "<Figure size 500x500 with 1 Axes>",
                  "image/png": "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\n"
                },
                "metadata": {}
              }
            ]
          }
        },
        "5a9a43ab226c4d648b59d83d46dc7861": {
          "model_module": "@jupyter-widgets/base",
          "model_name": "LayoutModel",
          "model_module_version": "1.2.0",
          "state": {
            "_model_module": "@jupyter-widgets/base",
            "_model_module_version": "1.2.0",
            "_model_name": "LayoutModel",
            "_view_count": null,
            "_view_module": "@jupyter-widgets/base",
            "_view_module_version": "1.2.0",
            "_view_name": "LayoutView",
            "align_content": null,
            "align_items": null,
            "align_self": null,
            "border": null,
            "bottom": null,
            "display": null,
            "flex": null,
            "flex_flow": null,
            "grid_area": null,
            "grid_auto_columns": null,
            "grid_auto_flow": null,
            "grid_auto_rows": null,
            "grid_column": null,
            "grid_gap": null,
            "grid_row": null,
            "grid_template_areas": null,
            "grid_template_columns": null,
            "grid_template_rows": null,
            "height": null,
            "justify_content": null,
            "justify_items": null,
            "left": null,
            "margin": null,
            "max_height": null,
            "max_width": null,
            "min_height": null,
            "min_width": null,
            "object_fit": null,
            "object_position": null,
            "order": null,
            "overflow": null,
            "overflow_x": null,
            "overflow_y": null,
            "padding": null,
            "right": null,
            "top": null,
            "visibility": null,
            "width": null
          }
        }
      }
    }
  },
  "nbformat": 4,
  "nbformat_minor": 0
}